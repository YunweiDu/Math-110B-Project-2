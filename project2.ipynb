{
 "cells": [
  {
   "cell_type": "code",
   "execution_count": 1,
   "metadata": {},
   "outputs": [],
   "source": [
    "# generate a vector of random numbers which obeys the given distribution.\n",
    "#\n",
    "# n: length of the vector\n",
    "# mu: mean value\n",
    "# sigma: standard deviation.\n",
    "# dist: choices for the distribution, you need to implement at least normal\n",
    "#       distribution and uniform distribution.\n",
    "#\n",
    "# For normal distribution, you can use ``numpy.random.normal`` to generate.\n",
    "# For uniform distribution, the interval to sample will be [mu - sigma/sqrt(3), mu + sigma/sqrt(3)]."
   ]
  },
  {
   "cell_type": "code",
   "execution_count": 1,
   "metadata": {},
   "outputs": [],
   "source": [
    "import numpy as np\n",
    "import pandas as pd\n",
    "import matplotlib.pyplot as plt\n",
    "import seaborn as sns\n",
    "from math import sqrt"
   ]
  },
  {
   "cell_type": "code",
   "execution_count": 2,
   "metadata": {},
   "outputs": [],
   "source": [
    "def generate_random_numbers(n, mu, sigma, dist=\"normal\"):\n",
    "    if dist == \"normal\":\n",
    "        return np.random.normal(mu, sigma, n)\n",
    "    elif dist == \"uniform\":\n",
    "         return np.random.uniform(mu-sigma/sqrt(3), mu+sigma/sqrt(3),n)\n",
    "    else:\n",
    "        raise Exception(\"The distribution {unknown_dist} is not implemented\".format(unknown_dist=dist))"
   ]
  },
  {
   "cell_type": "code",
   "execution_count": 3,
   "metadata": {
    "scrolled": true
   },
   "outputs": [],
   "source": [
    "# test your code:\n",
    "y_test = generate_random_numbers(5, 0, 0.1, \"normal\")"
   ]
  },
  {
   "cell_type": "code",
   "execution_count": 4,
   "metadata": {},
   "outputs": [],
   "source": [
    "y1 = generate_random_numbers(105, 0.5, 1.0, \"normal\")\n",
    "y2 = generate_random_numbers(105, 0.5, 1.0, \"uniform\")"
   ]
  },
  {
   "cell_type": "code",
   "execution_count": 5,
   "metadata": {},
   "outputs": [],
   "source": [
    "# IGD, the ordering is permitted to have replacement.\n",
    "def IGD_wr_task1(y):\n",
    "    n = len(y)\n",
    "    ordering = np.random.choice(n, n, replace=True)\n",
    "    # implement the algorithm's iteration of IGD. Your result should return the the final xk\n",
    "    # at the last iteration and also the history of objective function at each xk.\n",
    "    x0=0  \n",
    "    z=[]\n",
    "    xk=[x0]\n",
    "    for k in range(n):\n",
    "        gk=1/(k+1)\n",
    "        x1=x0-gk*(x0-y[ordering[k]])\n",
    "        z.append(1/2*sum((x1-y)**2))\n",
    "        x0=x1\n",
    "        xk.append(x1)\n",
    "    return z,x1,xk\n"
   ]
  },
  {
   "cell_type": "code",
   "execution_count": 6,
   "metadata": {},
   "outputs": [],
   "source": [
    "def IGD_wo_task1(y):\n",
    "    n = len(y)\n",
    "    ordering = np.random.choice(n, n, replace=False)\n",
    "    # implement the algorithm's iteration of IGD. Your result should return the the final xk\n",
    "    # at the last iteration and also the history of objective function at each xk.\n",
    "    x0=0\n",
    "    z=[]\n",
    "    xk=[x0]\n",
    "    for k in range(n):\n",
    "        gk=1/(k+1)\n",
    "        x1=x0-gk*(x0-y[ordering[k]])\n",
    "        z.append(1/2*sum((x1-y)**2))\n",
    "        x0=x1\n",
    "        xk.append(x1)\n",
    "    return z,x1,xk"
   ]
  },
  {
   "cell_type": "code",
   "execution_count": 7,
   "metadata": {},
   "outputs": [
    {
     "data": {
      "image/png": "[encoded data removed]",
      "text/plain": [
       "<Figure size 432x288 with 1 Axes>"
      ]
     },
     "metadata": {
      "needs_background": "light"
     },
     "output_type": "display_data"
    }
   ],
   "source": [
    "zn1,xk1,x1=IGD_wr_task1(y1)\n",
    "zn2,xk2,x2=IGD_wo_task1(y1)\n",
    "for history in [zn1,zn2]:\n",
    "    plt.plot(history)"
   ]
  },
  {
   "cell_type": "code",
   "execution_count": 8,
   "metadata": {
    "scrolled": false
   },
   "outputs": [
    {
     "data": {
      "image/png": "[encoded data removed]",
      "text/plain": [
       "<Figure size 432x288 with 1 Axes>"
      ]
     },
     "metadata": {
      "needs_background": "light"
     },
     "output_type": "display_data"
    }
   ],
   "source": [
    "zu1,xku1,x1=IGD_wr_task1(y2)\n",
    "zu2,xku2,x2=IGD_wo_task1(y2)\n",
    "for history in [zu1,zu2]:\n",
    "    plt.plot(history)"
   ]
  },
  {
   "cell_type": "code",
   "execution_count": 9,
   "metadata": {},
   "outputs": [],
   "source": [
    "beta=np.random.uniform(1,2,50)\n",
    "y=50\n",
    "gamma=0.95*min(1/beta)\n",
    "# IGD, the ordering is permitted to have replacement. "
   ]
  },
  {
   "cell_type": "code",
   "execution_count": 10,
   "metadata": {},
   "outputs": [],
   "source": [
    "# IGD, the ordering is permitted to have replacement. \n",
    "def IGD_wr_task2(beta,y):\n",
    "    n = len(beta)\n",
    "    ordering = np.random.choice(n, n, replace=True)    \n",
    "    # implement the algorithm's iteration of IGD. Your result should return the the final xk\n",
    "    # at the last iteration and also the history of objective function at each xk.\n",
    "    x0=0\n",
    "    x=[x0]\n",
    "    z=[]\n",
    "    for k in range(n):\n",
    "        beta_k=beta[ordering[k]]\n",
    "        x1=x0-gamma*beta_k*(x0-y)\n",
    "        x0=x1\n",
    "        z.append(1/2*sum(beta*(x1-y)**2))\n",
    "        x.append(x1)\n",
    "    return z,x,x1\n",
    "# implement the algorithm's iteration of IGD. Your result should return the the final xk\n",
    "# at the last iteration and also the history of objective function at each xk."
   ]
  },
  {
   "cell_type": "code",
   "execution_count": 11,
   "metadata": {},
   "outputs": [],
   "source": [
    "# IGD, the ordering is not permitted to have replacement.\n",
    "def IGD_wo_task2(beta,y):\n",
    "    n = len(beta)\n",
    "    ordering = np.random.choice(n, n, replace=False)\n",
    "    # implement the algorithm's iteration of IGD. Your result should return the the final xk\n",
    "    # at the last iteration and also the history of objective function at each xk.\n",
    "    x0=0\n",
    "    z=[]\n",
    "    x=[x0]\n",
    "    for k in range(n):\n",
    "        beta_k=beta[ordering[k]]\n",
    "        x1=x0-gamma*beta_k*(x0-y)\n",
    "        x0=x1\n",
    "        z.append(1/2*sum(beta*(x1-y)**2))\n",
    "        x.append(x1)\n",
    "    return z,x,x1"
   ]
  },
  {
   "cell_type": "code",
   "execution_count": 12,
   "metadata": {},
   "outputs": [],
   "source": [
    "z1,xk_1,x_1=IGD_wr_task2(beta,y)\n",
    "\n",
    "z2,xk_2,x_2=IGD_wo_task2(beta,y)"
   ]
  },
  {
   "cell_type": "code",
   "execution_count": 13,
   "metadata": {},
   "outputs": [
    {
     "data": {
      "image/png": "[encoded data removed]",
      "text/plain": [
       "<Figure size 432x288 with 1 Axes>"
      ]
     },
     "metadata": {
      "needs_background": "light"
     },
     "output_type": "display_data"
    }
   ],
   "source": [
    "for history in [z1,z2]:\n",
    "    plt.plot(history)"
   ]
  },
  {
   "cell_type": "code",
   "execution_count": 53,
   "metadata": {},
   "outputs": [],
   "source": [
    "# generation of exact solution and data y and matrix A.\n",
    "\n",
    "def generate_problem_task3(m, n, rho):\n",
    "    A = np.random.normal(0., 1.0, (m, n))\n",
    "    x = np.random.random(n) # uniform in (0,1)\n",
    "    w = np.random.normal(0., rho, m)\n",
    "    y = A@x + w\n",
    "    return A, x, y"
   ]
  },
  {
   "cell_type": "code",
   "execution_count": 54,
   "metadata": {},
   "outputs": [],
   "source": [
    "# We generate the problem with 200x100 matrix. rho as 0.01.\n",
    "#\n",
    "A, xstar, y = generate_problem_task3(200, 100, 0.01)"
   ]
  },
  {
   "cell_type": "code",
   "execution_count": 69,
   "metadata": {},
   "outputs": [],
   "source": [
    "def summation(A,x,y):\n",
    "    s=0\n",
    "    for i in range(A.shape[0]):\n",
    "        s+=(A[i,:]@x-y[i])**2\n",
    "    return s"
   ]
  },
  {
   "cell_type": "code",
   "execution_count": 70,
   "metadata": {},
   "outputs": [],
   "source": [
    "def IGD_wr_task3(y, A):\n",
    "    # implement the algorithm's iteration of IGD. Your result should return the the final xk\n",
    "    # at the last iteration and also the history of objective function at each xk.\n",
    "    gamma3=1e-3\n",
    "    n=A.shape[1]\n",
    "    ordering = np.random.choice(n, n, replace=True)\n",
    "    x0=np.zeros(n)\n",
    "    xk3=[x0]\n",
    "    z=[]\n",
    "    for k in range(n):\n",
    "        ak=A[ordering[k],:]\n",
    "        x1=x0-gamma3*ak*(ak*x0-y[ordering[k]])\n",
    "        x0=x1\n",
    "        xk3.append(np.linalg.norm(x1-xstar))        \n",
    "        z.append(summation(A,x1,y))\n",
    "    return z,x1,xk3"
   ]
  },
  {
   "cell_type": "code",
   "execution_count": 71,
   "metadata": {},
   "outputs": [],
   "source": [
    "def IGD_wo_task3(y, A):\n",
    "    # implement the algorithm's iteration of IGD. Your result should return the the final xk\n",
    "    # at the last iteration and also the history of objective function at each xk.\n",
    "    gamma3=1e-3\n",
    "    m,n=A.shape[0],A.shape[1]\n",
    "    ordering = np.random.choice(n, n, replace=False)\n",
    "    x0=np.zeros(n)\n",
    "    xk3=[]\n",
    "    z=[]\n",
    "    for k in range(n):\n",
    "        ak=A[ordering[k],:]\n",
    "        x1=x0-gamma3*ak*(ak*x0-y[ordering[k]])\n",
    "        x0=x1\n",
    "        xk3.append(np.linalg.norm(x1-xstar))\n",
    "        z.append(summation(A,x1,y))\n",
    "    return z,x1,xk3"
   ]
  },
  {
   "cell_type": "code",
   "execution_count": 72,
   "metadata": {},
   "outputs": [],
   "source": [
    "z31,xk31,x31=IGD_wr_task3(y,A)\n",
    "z32,xk32,x32=IGD_wo_task3(y,A)"
   ]
  },
  {
   "cell_type": "code",
   "execution_count": 73,
   "metadata": {},
   "outputs": [
    {
     "data": {
      "image/png": "[encoded data removed]",
      "text/plain": [
       "<Figure size 432x288 with 1 Axes>"
      ]
     },
     "metadata": {
      "needs_background": "light"
     },
     "output_type": "display_data"
    }
   ],
   "source": [
    "for history in [z31,z32]:\n",
    "    plt.plot(history)"
   ]
  },
  {
   "cell_type": "code",
   "execution_count": null,
   "metadata": {},
   "outputs": [],
   "source": []
  }
 ],
 "metadata": {
  "kernelspec": {
   "display_name": "Python 3",
   "language": "python",
   "name": "python3"
  },
  "language_info": {
   "codemirror_mode": {
    "name": "ipython",
    "version": 3
   },
   "file_extension": ".py",
   "mimetype": "text/x-python",
   "name": "python",
   "nbconvert_exporter": "python",
   "pygments_lexer": "ipython3",
   "version": "3.8.5"
  }
 },
 "nbformat": 4,
 "nbformat_minor": 4
}
